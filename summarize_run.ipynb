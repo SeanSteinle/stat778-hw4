{
 "cells": [
  {
   "cell_type": "markdown",
   "id": "b32f44cb",
   "metadata": {},
   "source": [
    "# A Brief Analysis of Singular and Array Runs\n",
    "*Sean Steinle*\n",
    "\n",
    "This notebook loads the results of singular and array runs, comparing the size and results for each."
   ]
  },
  {
   "cell_type": "code",
   "execution_count": 31,
   "id": "23464df9",
   "metadata": {},
   "outputs": [],
   "source": [
    "#imports\n",
    "import os\n",
    "import sys\n",
    "import pandas as pd\n",
    "from numpy import mean"
   ]
  },
  {
   "cell_type": "code",
   "execution_count": 27,
   "id": "8c05305a",
   "metadata": {},
   "outputs": [],
   "source": [
    "def load_results(results_dir: str):\n",
    "    \"\"\"Load all .csvs in directory into a single dataframe.\"\"\"\n",
    "    dfs = []\n",
    "    for results_file in os.listdir(results_dir):\n",
    "        if results_file[-4:] != \".csv\": continue #skip if not csv\n",
    "        dfs.append(pd.read_csv(results_dir+results_file))\n",
    "    if len(dfs) == 0: \n",
    "        print(\"no .csv files found in directory!\")\n",
    "        sys.exit(0)\n",
    "    elif len(dfs) == 1:\n",
    "        df = dfs[0]\n",
    "    elif len(dfs) > 1:\n",
    "        df = pd.concat(dfs)\n",
    "    return df"
   ]
  },
  {
   "cell_type": "code",
   "execution_count": 28,
   "id": "0d3c94c5",
   "metadata": {},
   "outputs": [],
   "source": [
    "single_df = load_results(\"outputs/singular_runs/\")\n",
    "array_df = load_results(\"outputs/array_runs/\")"
   ]
  },
  {
   "cell_type": "code",
   "execution_count": 29,
   "id": "ab4cae96",
   "metadata": {},
   "outputs": [
    {
     "data": {
      "text/html": [
       "<div>\n",
       "<style scoped>\n",
       "    .dataframe tbody tr th:only-of-type {\n",
       "        vertical-align: middle;\n",
       "    }\n",
       "\n",
       "    .dataframe tbody tr th {\n",
       "        vertical-align: top;\n",
       "    }\n",
       "\n",
       "    .dataframe thead th {\n",
       "        text-align: right;\n",
       "    }\n",
       "</style>\n",
       "<table border=\"1\" class=\"dataframe\">\n",
       "  <thead>\n",
       "    <tr style=\"text-align: right;\">\n",
       "      <th></th>\n",
       "      <th>model_index</th>\n",
       "      <th>rmspe</th>\n",
       "      <th>tau</th>\n",
       "    </tr>\n",
       "  </thead>\n",
       "  <tbody>\n",
       "    <tr>\n",
       "      <th>0</th>\n",
       "      <td>0</td>\n",
       "      <td>0.964382</td>\n",
       "      <td>1.244099</td>\n",
       "    </tr>\n",
       "    <tr>\n",
       "      <th>1</th>\n",
       "      <td>0</td>\n",
       "      <td>1.112011</td>\n",
       "      <td>1.250929</td>\n",
       "    </tr>\n",
       "    <tr>\n",
       "      <th>2</th>\n",
       "      <td>0</td>\n",
       "      <td>0.942991</td>\n",
       "      <td>1.233294</td>\n",
       "    </tr>\n",
       "    <tr>\n",
       "      <th>3</th>\n",
       "      <td>0</td>\n",
       "      <td>1.000811</td>\n",
       "      <td>1.209918</td>\n",
       "    </tr>\n",
       "    <tr>\n",
       "      <th>4</th>\n",
       "      <td>0</td>\n",
       "      <td>0.901193</td>\n",
       "      <td>1.241517</td>\n",
       "    </tr>\n",
       "    <tr>\n",
       "      <th>...</th>\n",
       "      <td>...</td>\n",
       "      <td>...</td>\n",
       "      <td>...</td>\n",
       "    </tr>\n",
       "    <tr>\n",
       "      <th>1495</th>\n",
       "      <td>2</td>\n",
       "      <td>1.039830</td>\n",
       "      <td>1.269568</td>\n",
       "    </tr>\n",
       "    <tr>\n",
       "      <th>1496</th>\n",
       "      <td>2</td>\n",
       "      <td>1.045319</td>\n",
       "      <td>1.253914</td>\n",
       "    </tr>\n",
       "    <tr>\n",
       "      <th>1497</th>\n",
       "      <td>2</td>\n",
       "      <td>1.058284</td>\n",
       "      <td>1.241548</td>\n",
       "    </tr>\n",
       "    <tr>\n",
       "      <th>1498</th>\n",
       "      <td>2</td>\n",
       "      <td>1.075280</td>\n",
       "      <td>1.265534</td>\n",
       "    </tr>\n",
       "    <tr>\n",
       "      <th>1499</th>\n",
       "      <td>2</td>\n",
       "      <td>1.056074</td>\n",
       "      <td>1.252084</td>\n",
       "    </tr>\n",
       "  </tbody>\n",
       "</table>\n",
       "<p>1500 rows × 3 columns</p>\n",
       "</div>"
      ],
      "text/plain": [
       "      model_index     rmspe       tau\n",
       "0               0  0.964382  1.244099\n",
       "1               0  1.112011  1.250929\n",
       "2               0  0.942991  1.233294\n",
       "3               0  1.000811  1.209918\n",
       "4               0  0.901193  1.241517\n",
       "...           ...       ...       ...\n",
       "1495            2  1.039830  1.269568\n",
       "1496            2  1.045319  1.253914\n",
       "1497            2  1.058284  1.241548\n",
       "1498            2  1.075280  1.265534\n",
       "1499            2  1.056074  1.252084\n",
       "\n",
       "[1500 rows x 3 columns]"
      ]
     },
     "execution_count": 29,
     "metadata": {},
     "output_type": "execute_result"
    }
   ],
   "source": [
    "single_df"
   ]
  },
  {
   "cell_type": "markdown",
   "id": "89ec78eb",
   "metadata": {},
   "source": [
    "For the singular runs, we have 10 folds, 50 repetitions per model = 500 runs per model * 3 models = 1500 rmspe,tau pairs!"
   ]
  },
  {
   "cell_type": "code",
   "execution_count": 30,
   "id": "487277e6",
   "metadata": {},
   "outputs": [
    {
     "data": {
      "text/html": [
       "<div>\n",
       "<style scoped>\n",
       "    .dataframe tbody tr th:only-of-type {\n",
       "        vertical-align: middle;\n",
       "    }\n",
       "\n",
       "    .dataframe tbody tr th {\n",
       "        vertical-align: top;\n",
       "    }\n",
       "\n",
       "    .dataframe thead th {\n",
       "        text-align: right;\n",
       "    }\n",
       "</style>\n",
       "<table border=\"1\" class=\"dataframe\">\n",
       "  <thead>\n",
       "    <tr style=\"text-align: right;\">\n",
       "      <th></th>\n",
       "      <th>model_index</th>\n",
       "      <th>rmspe</th>\n",
       "      <th>tau</th>\n",
       "    </tr>\n",
       "  </thead>\n",
       "  <tbody>\n",
       "    <tr>\n",
       "      <th>0</th>\n",
       "      <td>0</td>\n",
       "      <td>0.951515</td>\n",
       "      <td>1.224623</td>\n",
       "    </tr>\n",
       "    <tr>\n",
       "      <th>1</th>\n",
       "      <td>0</td>\n",
       "      <td>0.960172</td>\n",
       "      <td>1.208036</td>\n",
       "    </tr>\n",
       "    <tr>\n",
       "      <th>2</th>\n",
       "      <td>0</td>\n",
       "      <td>0.949753</td>\n",
       "      <td>1.228807</td>\n",
       "    </tr>\n",
       "    <tr>\n",
       "      <th>3</th>\n",
       "      <td>0</td>\n",
       "      <td>0.970651</td>\n",
       "      <td>1.235272</td>\n",
       "    </tr>\n",
       "    <tr>\n",
       "      <th>4</th>\n",
       "      <td>0</td>\n",
       "      <td>1.068974</td>\n",
       "      <td>1.233524</td>\n",
       "    </tr>\n",
       "    <tr>\n",
       "      <th>...</th>\n",
       "      <td>...</td>\n",
       "      <td>...</td>\n",
       "      <td>...</td>\n",
       "    </tr>\n",
       "    <tr>\n",
       "      <th>355</th>\n",
       "      <td>2</td>\n",
       "      <td>1.047568</td>\n",
       "      <td>1.251275</td>\n",
       "    </tr>\n",
       "    <tr>\n",
       "      <th>356</th>\n",
       "      <td>2</td>\n",
       "      <td>1.082346</td>\n",
       "      <td>1.262900</td>\n",
       "    </tr>\n",
       "    <tr>\n",
       "      <th>357</th>\n",
       "      <td>2</td>\n",
       "      <td>1.015826</td>\n",
       "      <td>1.262833</td>\n",
       "    </tr>\n",
       "    <tr>\n",
       "      <th>358</th>\n",
       "      <td>2</td>\n",
       "      <td>1.046323</td>\n",
       "      <td>1.258919</td>\n",
       "    </tr>\n",
       "    <tr>\n",
       "      <th>359</th>\n",
       "      <td>2</td>\n",
       "      <td>1.038413</td>\n",
       "      <td>1.277776</td>\n",
       "    </tr>\n",
       "  </tbody>\n",
       "</table>\n",
       "<p>3600 rows × 3 columns</p>\n",
       "</div>"
      ],
      "text/plain": [
       "     model_index     rmspe       tau\n",
       "0              0  0.951515  1.224623\n",
       "1              0  0.960172  1.208036\n",
       "2              0  0.949753  1.228807\n",
       "3              0  0.970651  1.235272\n",
       "4              0  1.068974  1.233524\n",
       "..           ...       ...       ...\n",
       "355            2  1.047568  1.251275\n",
       "356            2  1.082346  1.262900\n",
       "357            2  1.015826  1.262833\n",
       "358            2  1.046323  1.258919\n",
       "359            2  1.038413  1.277776\n",
       "\n",
       "[3600 rows x 3 columns]"
      ]
     },
     "execution_count": 30,
     "metadata": {},
     "output_type": "execute_result"
    }
   ],
   "source": [
    "array_df"
   ]
  },
  {
   "cell_type": "markdown",
   "id": "fadbe521",
   "metadata": {},
   "source": [
    "For the array runs, we have 10 folds, 12 inner repetitions per model = 120 runs per model * 10 outer repetitions = 1200 runs per model * 3 models = 3600 rmspe,tau pairs!"
   ]
  },
  {
   "cell_type": "code",
   "execution_count": 34,
   "id": "ef4b0cd9",
   "metadata": {},
   "outputs": [
    {
     "name": "stdout",
     "output_type": "stream",
     "text": [
      "Singular RMSPE: 0.9958933571836872\tSingular Tau: 1.2404949454792338\n",
      "Array RMSPE: 0.9958694653130755\tArray Tau: 1.2403465511859193\n"
     ]
    }
   ],
   "source": [
    "print(f\"Singular RMSPE: {mean(single_df['rmspe'])}\\tSingular Tau: {mean(single_df['tau'])}\")\n",
    "print(f\"Array RMSPE: {mean(array_df['rmspe'])}\\tArray Tau: {mean(array_df['tau'])}\")"
   ]
  },
  {
   "cell_type": "markdown",
   "id": "176eda69",
   "metadata": {},
   "source": [
    "Looks like we get similar results, all the way down to the 1 X 10^-4ish precision!"
   ]
  }
 ],
 "metadata": {
  "kernelspec": {
   "display_name": "Python 3 (ipykernel)",
   "language": "python",
   "name": "python3"
  },
  "language_info": {
   "codemirror_mode": {
    "name": "ipython",
    "version": 3
   },
   "file_extension": ".py",
   "mimetype": "text/x-python",
   "name": "python",
   "nbconvert_exporter": "python",
   "pygments_lexer": "ipython3",
   "version": "3.10.1"
  }
 },
 "nbformat": 4,
 "nbformat_minor": 5
}
